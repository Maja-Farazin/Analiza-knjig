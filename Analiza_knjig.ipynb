{
 "cells": [
  {
   "cell_type": "markdown",
   "metadata": {},
   "source": [
    "# ANALIZA PODATKOV KNJIG S PANDAS"
   ]
  },
  {
   "cell_type": "markdown",
   "metadata": {},
   "source": [
    "## NALAGANJE PANDAS IN PODATKOV"
   ]
  },
  {
   "cell_type": "code",
   "execution_count": 476,
   "metadata": {},
   "outputs": [],
   "source": [
    "import pandas as pd\n",
    "import numpy as np\n",
    "import matplotlib.pyplot as plt\n",
    "\n",
    "pd.options.display.max_rows = 10\n",
    "%matplotlib inline"
   ]
  },
  {
   "cell_type": "code",
   "execution_count": 477,
   "metadata": {},
   "outputs": [],
   "source": [
    "knjige = pd.read_csv('.\\knjige.csv', index_col='id')"
   ]
  },
  {
   "cell_type": "markdown",
   "metadata": {},
   "source": [
    "## UVOD\n",
    "Analizirala bom 9000 knjig iz kategorije 'Najboljše knjige 21. stoletja' na spletni strani goodreads (https://www.goodreads.com/list/show/7.Best_Books_of_the_21st_Century?page=91).\n",
    "\n",
    "Za vsako knjigo sem zajela:\n",
    "- Naslov knjige\n",
    "- Avtorja\n",
    "- Naslov zbirke in zaporedno st. knjige v zbirki (če je knjiga del ene)\n",
    "- Uvrstitev knjige\n",
    "- Id knjige\n",
    "- Povprečno oceno bralcev\n",
    "- Št. ocen\n",
    "- Oceno knjige (na katero vpliva število glasov, ocene bralcev ipd.)\n",
    "- Št. glasov"
   ]
  },
  {
   "cell_type": "code",
   "execution_count": 478,
   "metadata": {},
   "outputs": [
    {
     "data": {
      "text/html": [
       "<div>\n",
       "<style scoped>\n",
       "    .dataframe tbody tr th:only-of-type {\n",
       "        vertical-align: middle;\n",
       "    }\n",
       "\n",
       "    .dataframe tbody tr th {\n",
       "        vertical-align: top;\n",
       "    }\n",
       "\n",
       "    .dataframe thead th {\n",
       "        text-align: right;\n",
       "    }\n",
       "</style>\n",
       "<table border=\"1\" class=\"dataframe\">\n",
       "  <thead>\n",
       "    <tr style=\"text-align: right;\">\n",
       "      <th></th>\n",
       "      <th>uvrstitev</th>\n",
       "      <th>naslov</th>\n",
       "      <th>avtor</th>\n",
       "      <th>povp_ocena</th>\n",
       "      <th>st_ocen</th>\n",
       "      <th>ocena</th>\n",
       "      <th>st_glasov</th>\n",
       "      <th>zbirka</th>\n",
       "      <th>zap_st_knjige_v_zbirki</th>\n",
       "    </tr>\n",
       "    <tr>\n",
       "      <th>id</th>\n",
       "      <th></th>\n",
       "      <th></th>\n",
       "      <th></th>\n",
       "      <th></th>\n",
       "      <th></th>\n",
       "      <th></th>\n",
       "      <th></th>\n",
       "      <th></th>\n",
       "      <th></th>\n",
       "    </tr>\n",
       "  </thead>\n",
       "  <tbody>\n",
       "    <tr>\n",
       "      <th>136251</th>\n",
       "      <td>1</td>\n",
       "      <td>Harry Potter and the Deathly Hallows</td>\n",
       "      <td>J.K. Rowling</td>\n",
       "      <td>4.61</td>\n",
       "      <td>3105897</td>\n",
       "      <td>403410</td>\n",
       "      <td>4078</td>\n",
       "      <td>Harry Potter</td>\n",
       "      <td>7.0</td>\n",
       "    </tr>\n",
       "    <tr>\n",
       "      <th>2767052</th>\n",
       "      <td>2</td>\n",
       "      <td>The Hunger Games</td>\n",
       "      <td>Suzanne Collins</td>\n",
       "      <td>4.32</td>\n",
       "      <td>7026470</td>\n",
       "      <td>300983</td>\n",
       "      <td>3072</td>\n",
       "      <td>The Hunger Games</td>\n",
       "      <td>1.0</td>\n",
       "    </tr>\n",
       "    <tr>\n",
       "      <th>77203</th>\n",
       "      <td>3</td>\n",
       "      <td>The Kite Runner</td>\n",
       "      <td>Khaled Hosseini</td>\n",
       "      <td>4.31</td>\n",
       "      <td>2654813</td>\n",
       "      <td>265775</td>\n",
       "      <td>2699</td>\n",
       "      <td>NaN</td>\n",
       "      <td>NaN</td>\n",
       "    </tr>\n",
       "    <tr>\n",
       "      <th>19063</th>\n",
       "      <td>4</td>\n",
       "      <td>The Book Thief</td>\n",
       "      <td>Markus Zusak</td>\n",
       "      <td>4.38</td>\n",
       "      <td>2062063</td>\n",
       "      <td>259185</td>\n",
       "      <td>2640</td>\n",
       "      <td>NaN</td>\n",
       "      <td>NaN</td>\n",
       "    </tr>\n",
       "    <tr>\n",
       "      <th>1</th>\n",
       "      <td>5</td>\n",
       "      <td>Harry Potter and the Half-Blood Prince</td>\n",
       "      <td>J.K. Rowling</td>\n",
       "      <td>4.57</td>\n",
       "      <td>2709360</td>\n",
       "      <td>225993</td>\n",
       "      <td>2327</td>\n",
       "      <td>Harry Potter</td>\n",
       "      <td>6.0</td>\n",
       "    </tr>\n",
       "    <tr>\n",
       "      <th>...</th>\n",
       "      <td>...</td>\n",
       "      <td>...</td>\n",
       "      <td>...</td>\n",
       "      <td>...</td>\n",
       "      <td>...</td>\n",
       "      <td>...</td>\n",
       "      <td>...</td>\n",
       "      <td>...</td>\n",
       "      <td>...</td>\n",
       "    </tr>\n",
       "    <tr>\n",
       "      <th>17706813</th>\n",
       "      <td>9095</td>\n",
       "      <td>The Return of the Omniscient Narrator:  Author...</td>\n",
       "      <td>Paul Dawson</td>\n",
       "      <td>4.25</td>\n",
       "      <td>8</td>\n",
       "      <td>1</td>\n",
       "      <td>1</td>\n",
       "      <td>NaN</td>\n",
       "      <td>NaN</td>\n",
       "    </tr>\n",
       "    <tr>\n",
       "      <th>22928980</th>\n",
       "      <td>9095</td>\n",
       "      <td>The First Collection of Criticism by a Living ...</td>\n",
       "      <td>Jessica  Hopper</td>\n",
       "      <td>4.01</td>\n",
       "      <td>1828</td>\n",
       "      <td>1</td>\n",
       "      <td>1</td>\n",
       "      <td>NaN</td>\n",
       "      <td>NaN</td>\n",
       "    </tr>\n",
       "    <tr>\n",
       "      <th>3688884</th>\n",
       "      <td>9095</td>\n",
       "      <td>The Invention of Air: A Story of Science, Fait...</td>\n",
       "      <td>Steven Johnson</td>\n",
       "      <td>3.81</td>\n",
       "      <td>3040</td>\n",
       "      <td>1</td>\n",
       "      <td>1</td>\n",
       "      <td>NaN</td>\n",
       "      <td>NaN</td>\n",
       "    </tr>\n",
       "    <tr>\n",
       "      <th>3507618</th>\n",
       "      <td>9095</td>\n",
       "      <td>Fruitless Fall: The Collapse of the Honey Bee ...</td>\n",
       "      <td>Rowan Jacobsen</td>\n",
       "      <td>4.31</td>\n",
       "      <td>685</td>\n",
       "      <td>1</td>\n",
       "      <td>1</td>\n",
       "      <td>NaN</td>\n",
       "      <td>NaN</td>\n",
       "    </tr>\n",
       "    <tr>\n",
       "      <th>32940857</th>\n",
       "      <td>9095</td>\n",
       "      <td>Worlds Collide</td>\n",
       "      <td>Chris Colfer</td>\n",
       "      <td>4.54</td>\n",
       "      <td>22141</td>\n",
       "      <td>1</td>\n",
       "      <td>1</td>\n",
       "      <td>The Land of Stories</td>\n",
       "      <td>6.0</td>\n",
       "    </tr>\n",
       "  </tbody>\n",
       "</table>\n",
       "<p>9099 rows × 9 columns</p>\n",
       "</div>"
      ],
      "text/plain": [
       "          uvrstitev                                             naslov  \\\n",
       "id                                                                       \n",
       "136251            1               Harry Potter and the Deathly Hallows   \n",
       "2767052           2                                   The Hunger Games   \n",
       "77203             3                                    The Kite Runner   \n",
       "19063             4                                     The Book Thief   \n",
       "1                 5             Harry Potter and the Half-Blood Prince   \n",
       "...             ...                                                ...   \n",
       "17706813       9095  The Return of the Omniscient Narrator:  Author...   \n",
       "22928980       9095  The First Collection of Criticism by a Living ...   \n",
       "3688884        9095  The Invention of Air: A Story of Science, Fait...   \n",
       "3507618        9095  Fruitless Fall: The Collapse of the Honey Bee ...   \n",
       "32940857       9095                                     Worlds Collide   \n",
       "\n",
       "                    avtor  povp_ocena  st_ocen   ocena  st_glasov  \\\n",
       "id                                                                  \n",
       "136251       J.K. Rowling        4.61  3105897  403410       4078   \n",
       "2767052   Suzanne Collins        4.32  7026470  300983       3072   \n",
       "77203     Khaled Hosseini        4.31  2654813  265775       2699   \n",
       "19063        Markus Zusak        4.38  2062063  259185       2640   \n",
       "1            J.K. Rowling        4.57  2709360  225993       2327   \n",
       "...                   ...         ...      ...     ...        ...   \n",
       "17706813      Paul Dawson        4.25        8       1          1   \n",
       "22928980  Jessica  Hopper        4.01     1828       1          1   \n",
       "3688884    Steven Johnson        3.81     3040       1          1   \n",
       "3507618    Rowan Jacobsen        4.31      685       1          1   \n",
       "32940857     Chris Colfer        4.54    22141       1          1   \n",
       "\n",
       "                       zbirka  zap_st_knjige_v_zbirki  \n",
       "id                                                     \n",
       "136251           Harry Potter                     7.0  \n",
       "2767052      The Hunger Games                     1.0  \n",
       "77203                     NaN                     NaN  \n",
       "19063                     NaN                     NaN  \n",
       "1                Harry Potter                     6.0  \n",
       "...                       ...                     ...  \n",
       "17706813                  NaN                     NaN  \n",
       "22928980                  NaN                     NaN  \n",
       "3688884                   NaN                     NaN  \n",
       "3507618                   NaN                     NaN  \n",
       "32940857  The Land of Stories                     6.0  \n",
       "\n",
       "[9099 rows x 9 columns]"
      ]
     },
     "execution_count": 478,
     "metadata": {},
     "output_type": "execute_result"
    }
   ],
   "source": [
    "knjige"
   ]
  },
  {
   "cell_type": "markdown",
   "metadata": {},
   "source": [
    "Pri tem bom poskusila odgovoriti na naslednje hipoteze:\n",
    "- Ali so bolj popularne knjige del zbirk?\n",
    "- Ali število knjig v zbirki vpliva na popularnost?\n",
    "- Ali so bolje ocenjene knjige tudi večkrat ocenjene?"
   ]
  },
  {
   "cell_type": "markdown",
   "metadata": {},
   "source": [
    "## PROUČEVANJE PODATKOV"
   ]
  },
  {
   "cell_type": "markdown",
   "metadata": {},
   "source": [
    "Ker bomo proučevali knjige glede na to ali so del kake zbirke ali ne najprej ustvarimo dve razpredelnici - eno s knjigami, ki so del zbirke, eno pa s tistimi, ki niso."
   ]
  },
  {
   "cell_type": "code",
   "execution_count": 479,
   "metadata": {},
   "outputs": [
    {
     "data": {
      "text/html": [
       "<div>\n",
       "<style scoped>\n",
       "    .dataframe tbody tr th:only-of-type {\n",
       "        vertical-align: middle;\n",
       "    }\n",
       "\n",
       "    .dataframe tbody tr th {\n",
       "        vertical-align: top;\n",
       "    }\n",
       "\n",
       "    .dataframe thead th {\n",
       "        text-align: right;\n",
       "    }\n",
       "</style>\n",
       "<table border=\"1\" class=\"dataframe\">\n",
       "  <thead>\n",
       "    <tr style=\"text-align: right;\">\n",
       "      <th></th>\n",
       "      <th>uvrstitev</th>\n",
       "      <th>naslov</th>\n",
       "      <th>avtor</th>\n",
       "      <th>povp_ocena</th>\n",
       "      <th>st_ocen</th>\n",
       "      <th>ocena</th>\n",
       "      <th>st_glasov</th>\n",
       "      <th>zbirka</th>\n",
       "      <th>zap_st_knjige_v_zbirki</th>\n",
       "    </tr>\n",
       "    <tr>\n",
       "      <th>id</th>\n",
       "      <th></th>\n",
       "      <th></th>\n",
       "      <th></th>\n",
       "      <th></th>\n",
       "      <th></th>\n",
       "      <th></th>\n",
       "      <th></th>\n",
       "      <th></th>\n",
       "      <th></th>\n",
       "    </tr>\n",
       "  </thead>\n",
       "  <tbody>\n",
       "    <tr>\n",
       "      <th>136251</th>\n",
       "      <td>1</td>\n",
       "      <td>Harry Potter and the Deathly Hallows</td>\n",
       "      <td>J.K. Rowling</td>\n",
       "      <td>4.61</td>\n",
       "      <td>3105897</td>\n",
       "      <td>403410</td>\n",
       "      <td>4078</td>\n",
       "      <td>Harry Potter</td>\n",
       "      <td>7.0</td>\n",
       "    </tr>\n",
       "    <tr>\n",
       "      <th>2767052</th>\n",
       "      <td>2</td>\n",
       "      <td>The Hunger Games</td>\n",
       "      <td>Suzanne Collins</td>\n",
       "      <td>4.32</td>\n",
       "      <td>7026470</td>\n",
       "      <td>300983</td>\n",
       "      <td>3072</td>\n",
       "      <td>The Hunger Games</td>\n",
       "      <td>1.0</td>\n",
       "    </tr>\n",
       "    <tr>\n",
       "      <th>1</th>\n",
       "      <td>5</td>\n",
       "      <td>Harry Potter and the Half-Blood Prince</td>\n",
       "      <td>J.K. Rowling</td>\n",
       "      <td>4.57</td>\n",
       "      <td>2709360</td>\n",
       "      <td>225993</td>\n",
       "      <td>2327</td>\n",
       "      <td>Harry Potter</td>\n",
       "      <td>6.0</td>\n",
       "    </tr>\n",
       "    <tr>\n",
       "      <th>2</th>\n",
       "      <td>6</td>\n",
       "      <td>Harry Potter and the Order of the Phoenix</td>\n",
       "      <td>J.K. Rowling</td>\n",
       "      <td>4.50</td>\n",
       "      <td>2795062</td>\n",
       "      <td>205245</td>\n",
       "      <td>2132</td>\n",
       "      <td>Harry Potter</td>\n",
       "      <td>5.0</td>\n",
       "    </tr>\n",
       "    <tr>\n",
       "      <th>6148028</th>\n",
       "      <td>10</td>\n",
       "      <td>Catching Fire</td>\n",
       "      <td>Suzanne Collins</td>\n",
       "      <td>4.30</td>\n",
       "      <td>2826143</td>\n",
       "      <td>150101</td>\n",
       "      <td>1575</td>\n",
       "      <td>The Hunger Games</td>\n",
       "      <td>2.0</td>\n",
       "    </tr>\n",
       "    <tr>\n",
       "      <th>...</th>\n",
       "      <td>...</td>\n",
       "      <td>...</td>\n",
       "      <td>...</td>\n",
       "      <td>...</td>\n",
       "      <td>...</td>\n",
       "      <td>...</td>\n",
       "      <td>...</td>\n",
       "      <td>...</td>\n",
       "      <td>...</td>\n",
       "    </tr>\n",
       "    <tr>\n",
       "      <th>11607446</th>\n",
       "      <td>9076</td>\n",
       "      <td>The Wishing Spell</td>\n",
       "      <td>Chris Colfer</td>\n",
       "      <td>4.24</td>\n",
       "      <td>113884</td>\n",
       "      <td>3</td>\n",
       "      <td>1</td>\n",
       "      <td>The Land of Stories</td>\n",
       "      <td>1.0</td>\n",
       "    </tr>\n",
       "    <tr>\n",
       "      <th>28186363</th>\n",
       "      <td>9076</td>\n",
       "      <td>Apprentice in Death</td>\n",
       "      <td>J.D. Robb</td>\n",
       "      <td>4.43</td>\n",
       "      <td>21496</td>\n",
       "      <td>3</td>\n",
       "      <td>1</td>\n",
       "      <td>In Death</td>\n",
       "      <td>43.0</td>\n",
       "    </tr>\n",
       "    <tr>\n",
       "      <th>17722973</th>\n",
       "      <td>9088</td>\n",
       "      <td>The Enchantress Returns</td>\n",
       "      <td>Chris Colfer</td>\n",
       "      <td>4.47</td>\n",
       "      <td>48437</td>\n",
       "      <td>2</td>\n",
       "      <td>1</td>\n",
       "      <td>The Land of Stories</td>\n",
       "      <td>2.0</td>\n",
       "    </tr>\n",
       "    <tr>\n",
       "      <th>31384635</th>\n",
       "      <td>9088</td>\n",
       "      <td>Echoes in Death</td>\n",
       "      <td>J.D. Robb</td>\n",
       "      <td>4.42</td>\n",
       "      <td>22005</td>\n",
       "      <td>2</td>\n",
       "      <td>1</td>\n",
       "      <td>In Death</td>\n",
       "      <td>44.0</td>\n",
       "    </tr>\n",
       "    <tr>\n",
       "      <th>32940857</th>\n",
       "      <td>9095</td>\n",
       "      <td>Worlds Collide</td>\n",
       "      <td>Chris Colfer</td>\n",
       "      <td>4.54</td>\n",
       "      <td>22141</td>\n",
       "      <td>1</td>\n",
       "      <td>1</td>\n",
       "      <td>The Land of Stories</td>\n",
       "      <td>6.0</td>\n",
       "    </tr>\n",
       "  </tbody>\n",
       "</table>\n",
       "<p>3133 rows × 9 columns</p>\n",
       "</div>"
      ],
      "text/plain": [
       "          uvrstitev                                     naslov  \\\n",
       "id                                                               \n",
       "136251            1       Harry Potter and the Deathly Hallows   \n",
       "2767052           2                           The Hunger Games   \n",
       "1                 5     Harry Potter and the Half-Blood Prince   \n",
       "2                 6  Harry Potter and the Order of the Phoenix   \n",
       "6148028          10                              Catching Fire   \n",
       "...             ...                                        ...   \n",
       "11607446       9076                          The Wishing Spell   \n",
       "28186363       9076                        Apprentice in Death   \n",
       "17722973       9088                    The Enchantress Returns   \n",
       "31384635       9088                            Echoes in Death   \n",
       "32940857       9095                             Worlds Collide   \n",
       "\n",
       "                    avtor  povp_ocena  st_ocen   ocena  st_glasov  \\\n",
       "id                                                                  \n",
       "136251       J.K. Rowling        4.61  3105897  403410       4078   \n",
       "2767052   Suzanne Collins        4.32  7026470  300983       3072   \n",
       "1            J.K. Rowling        4.57  2709360  225993       2327   \n",
       "2            J.K. Rowling        4.50  2795062  205245       2132   \n",
       "6148028   Suzanne Collins        4.30  2826143  150101       1575   \n",
       "...                   ...         ...      ...     ...        ...   \n",
       "11607446     Chris Colfer        4.24   113884       3          1   \n",
       "28186363        J.D. Robb        4.43    21496       3          1   \n",
       "17722973     Chris Colfer        4.47    48437       2          1   \n",
       "31384635        J.D. Robb        4.42    22005       2          1   \n",
       "32940857     Chris Colfer        4.54    22141       1          1   \n",
       "\n",
       "                       zbirka  zap_st_knjige_v_zbirki  \n",
       "id                                                     \n",
       "136251           Harry Potter                     7.0  \n",
       "2767052      The Hunger Games                     1.0  \n",
       "1                Harry Potter                     6.0  \n",
       "2                Harry Potter                     5.0  \n",
       "6148028      The Hunger Games                     2.0  \n",
       "...                       ...                     ...  \n",
       "11607446  The Land of Stories                     1.0  \n",
       "28186363             In Death                    43.0  \n",
       "17722973  The Land of Stories                     2.0  \n",
       "31384635             In Death                    44.0  \n",
       "32940857  The Land of Stories                     6.0  \n",
       "\n",
       "[3133 rows x 9 columns]"
      ]
     },
     "execution_count": 479,
     "metadata": {},
     "output_type": "execute_result"
    }
   ],
   "source": [
    "v_zbirki = knjige.dropna()\n",
    "v_zbirki"
   ]
  },
  {
   "cell_type": "code",
   "execution_count": 480,
   "metadata": {},
   "outputs": [
    {
     "data": {
      "text/html": [
       "<div>\n",
       "<style scoped>\n",
       "    .dataframe tbody tr th:only-of-type {\n",
       "        vertical-align: middle;\n",
       "    }\n",
       "\n",
       "    .dataframe tbody tr th {\n",
       "        vertical-align: top;\n",
       "    }\n",
       "\n",
       "    .dataframe thead th {\n",
       "        text-align: right;\n",
       "    }\n",
       "</style>\n",
       "<table border=\"1\" class=\"dataframe\">\n",
       "  <thead>\n",
       "    <tr style=\"text-align: right;\">\n",
       "      <th></th>\n",
       "      <th>uvrstitev</th>\n",
       "      <th>naslov</th>\n",
       "      <th>avtor</th>\n",
       "      <th>povp_ocena</th>\n",
       "      <th>st_ocen</th>\n",
       "      <th>ocena</th>\n",
       "      <th>st_glasov</th>\n",
       "      <th>zbirka</th>\n",
       "      <th>zap_st_knjige_v_zbirki</th>\n",
       "    </tr>\n",
       "    <tr>\n",
       "      <th>id</th>\n",
       "      <th></th>\n",
       "      <th></th>\n",
       "      <th></th>\n",
       "      <th></th>\n",
       "      <th></th>\n",
       "      <th></th>\n",
       "      <th></th>\n",
       "      <th></th>\n",
       "      <th></th>\n",
       "    </tr>\n",
       "  </thead>\n",
       "  <tbody>\n",
       "    <tr>\n",
       "      <th>77203</th>\n",
       "      <td>3</td>\n",
       "      <td>The Kite Runner</td>\n",
       "      <td>Khaled Hosseini</td>\n",
       "      <td>4.31</td>\n",
       "      <td>2654813</td>\n",
       "      <td>265775</td>\n",
       "      <td>2699</td>\n",
       "      <td>NaN</td>\n",
       "      <td>NaN</td>\n",
       "    </tr>\n",
       "    <tr>\n",
       "      <th>19063</th>\n",
       "      <td>4</td>\n",
       "      <td>The Book Thief</td>\n",
       "      <td>Markus Zusak</td>\n",
       "      <td>4.38</td>\n",
       "      <td>2062063</td>\n",
       "      <td>259185</td>\n",
       "      <td>2640</td>\n",
       "      <td>NaN</td>\n",
       "      <td>NaN</td>\n",
       "    </tr>\n",
       "    <tr>\n",
       "      <th>4667024</th>\n",
       "      <td>7</td>\n",
       "      <td>The Help</td>\n",
       "      <td>Kathryn Stockett</td>\n",
       "      <td>4.46</td>\n",
       "      <td>2357013</td>\n",
       "      <td>168410</td>\n",
       "      <td>1742</td>\n",
       "      <td>NaN</td>\n",
       "      <td>NaN</td>\n",
       "    </tr>\n",
       "    <tr>\n",
       "      <th>128029</th>\n",
       "      <td>8</td>\n",
       "      <td>A Thousand Splendid Suns</td>\n",
       "      <td>Khaled Hosseini</td>\n",
       "      <td>4.39</td>\n",
       "      <td>1270499</td>\n",
       "      <td>165450</td>\n",
       "      <td>1694</td>\n",
       "      <td>NaN</td>\n",
       "      <td>NaN</td>\n",
       "    </tr>\n",
       "    <tr>\n",
       "      <th>4214</th>\n",
       "      <td>9</td>\n",
       "      <td>Life of Pi</td>\n",
       "      <td>Yann Martel</td>\n",
       "      <td>3.92</td>\n",
       "      <td>1439770</td>\n",
       "      <td>152204</td>\n",
       "      <td>1562</td>\n",
       "      <td>NaN</td>\n",
       "      <td>NaN</td>\n",
       "    </tr>\n",
       "    <tr>\n",
       "      <th>...</th>\n",
       "      <td>...</td>\n",
       "      <td>...</td>\n",
       "      <td>...</td>\n",
       "      <td>...</td>\n",
       "      <td>...</td>\n",
       "      <td>...</td>\n",
       "      <td>...</td>\n",
       "      <td>...</td>\n",
       "      <td>...</td>\n",
       "    </tr>\n",
       "    <tr>\n",
       "      <th>6377338</th>\n",
       "      <td>9088</td>\n",
       "      <td>A Fiery Peace in a Cold War: Bernard Schriever...</td>\n",
       "      <td>Neil Sheehan</td>\n",
       "      <td>3.83</td>\n",
       "      <td>741</td>\n",
       "      <td>2</td>\n",
       "      <td>1</td>\n",
       "      <td>NaN</td>\n",
       "      <td>NaN</td>\n",
       "    </tr>\n",
       "    <tr>\n",
       "      <th>17706813</th>\n",
       "      <td>9095</td>\n",
       "      <td>The Return of the Omniscient Narrator:  Author...</td>\n",
       "      <td>Paul Dawson</td>\n",
       "      <td>4.25</td>\n",
       "      <td>8</td>\n",
       "      <td>1</td>\n",
       "      <td>1</td>\n",
       "      <td>NaN</td>\n",
       "      <td>NaN</td>\n",
       "    </tr>\n",
       "    <tr>\n",
       "      <th>22928980</th>\n",
       "      <td>9095</td>\n",
       "      <td>The First Collection of Criticism by a Living ...</td>\n",
       "      <td>Jessica  Hopper</td>\n",
       "      <td>4.01</td>\n",
       "      <td>1828</td>\n",
       "      <td>1</td>\n",
       "      <td>1</td>\n",
       "      <td>NaN</td>\n",
       "      <td>NaN</td>\n",
       "    </tr>\n",
       "    <tr>\n",
       "      <th>3688884</th>\n",
       "      <td>9095</td>\n",
       "      <td>The Invention of Air: A Story of Science, Fait...</td>\n",
       "      <td>Steven Johnson</td>\n",
       "      <td>3.81</td>\n",
       "      <td>3040</td>\n",
       "      <td>1</td>\n",
       "      <td>1</td>\n",
       "      <td>NaN</td>\n",
       "      <td>NaN</td>\n",
       "    </tr>\n",
       "    <tr>\n",
       "      <th>3507618</th>\n",
       "      <td>9095</td>\n",
       "      <td>Fruitless Fall: The Collapse of the Honey Bee ...</td>\n",
       "      <td>Rowan Jacobsen</td>\n",
       "      <td>4.31</td>\n",
       "      <td>685</td>\n",
       "      <td>1</td>\n",
       "      <td>1</td>\n",
       "      <td>NaN</td>\n",
       "      <td>NaN</td>\n",
       "    </tr>\n",
       "  </tbody>\n",
       "</table>\n",
       "<p>5966 rows × 9 columns</p>\n",
       "</div>"
      ],
      "text/plain": [
       "          uvrstitev                                             naslov  \\\n",
       "id                                                                       \n",
       "77203             3                                    The Kite Runner   \n",
       "19063             4                                     The Book Thief   \n",
       "4667024           7                                           The Help   \n",
       "128029            8                           A Thousand Splendid Suns   \n",
       "4214              9                                         Life of Pi   \n",
       "...             ...                                                ...   \n",
       "6377338        9088  A Fiery Peace in a Cold War: Bernard Schriever...   \n",
       "17706813       9095  The Return of the Omniscient Narrator:  Author...   \n",
       "22928980       9095  The First Collection of Criticism by a Living ...   \n",
       "3688884        9095  The Invention of Air: A Story of Science, Fait...   \n",
       "3507618        9095  Fruitless Fall: The Collapse of the Honey Bee ...   \n",
       "\n",
       "                     avtor  povp_ocena  st_ocen   ocena  st_glasov zbirka  \\\n",
       "id                                                                          \n",
       "77203      Khaled Hosseini        4.31  2654813  265775       2699    NaN   \n",
       "19063         Markus Zusak        4.38  2062063  259185       2640    NaN   \n",
       "4667024   Kathryn Stockett        4.46  2357013  168410       1742    NaN   \n",
       "128029     Khaled Hosseini        4.39  1270499  165450       1694    NaN   \n",
       "4214           Yann Martel        3.92  1439770  152204       1562    NaN   \n",
       "...                    ...         ...      ...     ...        ...    ...   \n",
       "6377338       Neil Sheehan        3.83      741       2          1    NaN   \n",
       "17706813       Paul Dawson        4.25        8       1          1    NaN   \n",
       "22928980   Jessica  Hopper        4.01     1828       1          1    NaN   \n",
       "3688884     Steven Johnson        3.81     3040       1          1    NaN   \n",
       "3507618     Rowan Jacobsen        4.31      685       1          1    NaN   \n",
       "\n",
       "          zap_st_knjige_v_zbirki  \n",
       "id                                \n",
       "77203                        NaN  \n",
       "19063                        NaN  \n",
       "4667024                      NaN  \n",
       "128029                       NaN  \n",
       "4214                         NaN  \n",
       "...                          ...  \n",
       "6377338                      NaN  \n",
       "17706813                     NaN  \n",
       "22928980                     NaN  \n",
       "3688884                      NaN  \n",
       "3507618                      NaN  \n",
       "\n",
       "[5966 rows x 9 columns]"
      ]
     },
     "execution_count": 480,
     "metadata": {},
     "output_type": "execute_result"
    }
   ],
   "source": [
    "niso_v_zbirki = knjige[knjige.isna().any(axis=1)]\n",
    "niso_v_zbirki"
   ]
  },
  {
   "cell_type": "markdown",
   "metadata": {},
   "source": [
    "## HIPOTEZE"
   ]
  },
  {
   "cell_type": "markdown",
   "metadata": {},
   "source": [
    "### 1. KNJIGE, KI SO DEL ZBIRKE, SO BOLJ POPULARNE"
   ]
  },
  {
   "cell_type": "markdown",
   "metadata": {},
   "source": [
    "Pogledati želim, ali so knjige, ki so del neke zbirke bolj popularne od knjig, ki niso."
   ]
  },
  {
   "cell_type": "code",
   "execution_count": 481,
   "metadata": {},
   "outputs": [
    {
     "name": "stdout",
     "output_type": "stream",
     "text": [
      "Št. vseh knjig = 9099\n",
      "Št. knjig v zbirkah = 3133\n",
      "Št. samostojnih knjig = 5966\n"
     ]
    }
   ],
   "source": [
    "st_vseh_knjig = knjige['naslov'].count()\n",
    "st_knjig_v_zbirki = v_zbirki['naslov'].count()\n",
    "st_samostojnih_knjig = niso_v_zbirki['naslov'].count()\n",
    "print (f'Št. vseh knjig = {st_vseh_knjig}')\n",
    "print (f'Št. knjig v zbirkah = {st_knjig_v_zbirki}')\n",
    "print (f'Št. samostojnih knjig = {st_samostojnih_knjig}')"
   ]
  },
  {
   "cell_type": "markdown",
   "metadata": {},
   "source": [
    "Popularnost knjige lahko ocenimo s pomočjo povprečne ocene (*povp_ocena*), ki jih podeljujejo bralci na petstopenjski lestvici, ter s pomočjo ocene (*ocena*), ki je izračunana na podlagi povprečnih ocen, števila ocen ipd. Ker je ta ocena izjemno razpršena (vrednosti so med 0 in 400000), se bom bolj osredotočila na povprečno oceno."
   ]
  },
  {
   "cell_type": "markdown",
   "metadata": {},
   "source": [
    "Kot vidimo že iz preprostih izračunov je samostojnih knjig veliko več kot knjig, ki so del zbirke, vendar sta oba vzorca zelo velika, zato bomo lahko primerjali ocene."
   ]
  },
  {
   "cell_type": "code",
   "execution_count": 482,
   "metadata": {},
   "outputs": [
    {
     "name": "stdout",
     "output_type": "stream",
     "text": [
      "Aritmetične sredine vrednosti za samostojne knjige: \n",
      "uvrstitev                  4528.369930\n",
      "povp_ocena                    3.957125\n",
      "st_ocen                   33468.745558\n",
      "ocena                       898.876634\n",
      "st_glasov                     9.853000\n",
      "zap_st_knjige_v_zbirki             NaN\n",
      "dtype: float64\n",
      "\n",
      "Aritmetične sredine vrednosti za knjige, ki so del zbirke: \n",
      "uvrstitev                  4408.182573\n",
      "povp_ocena                    4.045238\n",
      "st_ocen                   69846.022343\n",
      "ocena                      1244.021066\n",
      "st_glasov                    13.799872\n",
      "zap_st_knjige_v_zbirki        3.900415\n",
      "dtype: float64\n",
      "Razlika med ocenama: 0.08628610795251182 %\n"
     ]
    }
   ],
   "source": [
    "povp1 = niso_v_zbirki.mean(numeric_only=True)\n",
    "povp2 = v_zbirki.mean(numeric_only=True)\n",
    "print (f'Aritmetične sredine vrednosti za samostojne knjige: \\n{povp1}\\n')\n",
    "\n",
    "print (f'Aritmetične sredine vrednosti za knjige, ki so del zbirke: \\n{povp2}')\n",
    "\n",
    "razlika = (povp2['ocena'] - povp1['ocena'])/4000\n",
    "print (f'Razlika med ocenama: {razlika} %')"
   ]
  },
  {
   "cell_type": "markdown",
   "metadata": {},
   "source": [
    "Kot lahko vidimo, med povprečnima ocenama (3,957 za samostojne in 4,045 za knjige, ki so del zbirke) ni bistvene razlike. Na naslednjem grafu, kjer primerjamo povprečne ocene obeh skupin knjig, se zdi, da so knjige, ki so del zbirke nekoliko bolje ocenjene kot samostojne, vendar je razlika majhna saj je enota na x-osi velika.  \n",
    "Med aritmetičnima sredinama ocen (898,877 za samostojne in 1244,021 za knjige, ki so del zbirke) je sicer nekoliko višja ocena, vendar moramo upoštevati, da je razpon ocen zelo velik. Razlika med tema ocenama je 0,086%, kar je zanemarljivo.  \n",
    "Zaključimo lahko torej, da ni bistvene razlike med samostojnimi knjigami in knjigami, ki so del zbirke."
   ]
  },
  {
   "cell_type": "code",
   "execution_count": 483,
   "metadata": {},
   "outputs": [
    {
     "data": {
      "text/plain": [
       "Text(0.5, 1.0, 'Povprečna ocena')"
      ]
     },
     "execution_count": 483,
     "metadata": {},
     "output_type": "execute_result"
    },
    {
     "data": {
      "image/png": "[encoded data removed]",
      "text/plain": [
       "<Figure size 432x288 with 1 Axes>"
      ]
     },
     "metadata": {
      "needs_background": "light"
     },
     "output_type": "display_data"
    }
   ],
   "source": [
    "bins = np.linspace(0, 5, 500)\n",
    "plt.hist(niso_v_zbirki['povp_ocena'], bins, alpha=0.5, label='samostojne knjige', color='#8c182b')\n",
    "plt.hist(v_zbirki['povp_ocena'], bins, alpha=0.7, label='v zbirki', color='#188c79')\n",
    "plt.legend(loc='upper left')\n",
    "plt.title('Povprečna ocena')"
   ]
  },
  {
   "cell_type": "markdown",
   "metadata": {},
   "source": [
    "Ogledamo si lahko še, katerih knjig je več med top 100 knjigami. Pri tem opazimo, da so knjige razvrščene glede na oceno *ocena*, torej so bolj popularne (oz. bolje ocenjene) knjige više na seznamu."
   ]
  },
  {
   "cell_type": "code",
   "execution_count": 491,
   "metadata": {},
   "outputs": [
    {
     "data": {
      "text/plain": [
       "Text(0.5, 1.0, 'Uvrstitev prvih 100 knjig')"
      ]
     },
     "execution_count": 491,
     "metadata": {},
     "output_type": "execute_result"
    },
    {
     "data": {
      "image/png": "[encoded data removed]",
      "text/plain": [
       "<Figure size 432x288 with 1 Axes>"
      ]
     },
     "metadata": {},
     "output_type": "display_data"
    },
    {
     "data": {
      "image/png": "[encoded data removed]",
      "text/plain": [
       "<Figure size 432x288 with 1 Axes>"
      ]
     },
     "metadata": {
      "needs_background": "light"
     },
     "output_type": "display_data"
    }
   ],
   "source": [
    "top100_niso = niso_v_zbirki[niso_v_zbirki['uvrstitev'] <= 100]\n",
    "top100_so = v_zbirki[v_zbirki['uvrstitev'] <= 100]\n",
    "st_top100_niso = top100_niso['naslov'].count()\n",
    "st_top100_so = top100_so['naslov'].count()\n",
    "\n",
    "ax1 = plt.subplot()\n",
    "barve = ['#8c182b', '#188c79']\n",
    "imena = ['Ni v zbirki', 'V zbirki']\n",
    "vrednosti = [top100_niso['naslov'].count(), top100_so['naslov'].count()]\n",
    "ax1.pie(vrednosti, labels=imena, autopct='%1.0f%%', colors=barve)\n",
    "plt.title('Število samostojnih knjig in knjig v zbirkah')\n",
    "\n",
    "ax2 = top100_niso.plot(x=1, y='uvrstitev', style='.', label='samostojne knjige', color='#8c182b')\n",
    "top100_so.plot(ax=ax2, x=1, y='uvrstitev', style='.', label='v zbirki', color='#188c79').axes.get_xaxis().set_visible(False)\n",
    "plt.title('Uvrstitev prvih 100 knjig')"
   ]
  },
  {
   "cell_type": "markdown",
   "metadata": {},
   "source": [
    "Med top 100 knjigami je le 30 takšnih ki so del neke zbirke, torej lahko sklepamo da so te knjige manj popularne od tistih, ki niso v zbirki.  \n",
    "Če pogledamo graf *Uvrstitev prvih 100 knjig*, ki prikazuje na katerih mestih so katere knjige, pa lahko vidimo, da je večina knjig, ki so del zbirke v prvi polovici - torej med prvimi 50 knjigami."
   ]
  },
  {
   "cell_type": "markdown",
   "metadata": {},
   "source": [
    "Iz tega lahko zaključimo, da ni bistvene razlike v popularnosti knjig glede na to ali so del zbirke ali ne. Če se osredotočimo le na top 100 knjig pa med njimi prevladujejo samostojne knjige."
   ]
  },
  {
   "cell_type": "markdown",
   "metadata": {},
   "source": [
    "### 2. DALJŠE ZBIRKE SO BOLJ POPULARNE"
   ]
  },
  {
   "cell_type": "markdown",
   "metadata": {},
   "source": [
    "Sedaj se osredotočimo le na knjige, ki so del zbirke. Ogledali si bomo kako (če sploh) število knjig v zbirki vpliva na popularnost.  \n",
    "Hitro lahko ugotovimo, da nekatere zbirke vsebujejo le eno knjigo, zato bomo te izločili - ogledali si bomo le zbirke ki vsebujejo vsaj dve knjigi."
   ]
  },
  {
   "cell_type": "code",
   "execution_count": 485,
   "metadata": {},
   "outputs": [
    {
     "data": {
      "text/html": [
       "<div>\n",
       "<style scoped>\n",
       "    .dataframe tbody tr th:only-of-type {\n",
       "        vertical-align: middle;\n",
       "    }\n",
       "\n",
       "    .dataframe tbody tr th {\n",
       "        vertical-align: top;\n",
       "    }\n",
       "\n",
       "    .dataframe thead th {\n",
       "        text-align: right;\n",
       "    }\n",
       "</style>\n",
       "<table border=\"1\" class=\"dataframe\">\n",
       "  <thead>\n",
       "    <tr style=\"text-align: right;\">\n",
       "      <th></th>\n",
       "      <th>uvrstitev</th>\n",
       "      <th>naslov</th>\n",
       "      <th>avtor</th>\n",
       "      <th>povp_ocena</th>\n",
       "      <th>st_ocen</th>\n",
       "      <th>ocena</th>\n",
       "      <th>st_glasov</th>\n",
       "      <th>zbirka</th>\n",
       "      <th>zap_st_knjige_v_zbirki</th>\n",
       "      <th>st_knjig_v_zbirki</th>\n",
       "    </tr>\n",
       "  </thead>\n",
       "  <tbody>\n",
       "    <tr>\n",
       "      <th>0</th>\n",
       "      <td>1</td>\n",
       "      <td>Harry Potter and the Deathly Hallows</td>\n",
       "      <td>J.K. Rowling</td>\n",
       "      <td>4.61</td>\n",
       "      <td>3105897</td>\n",
       "      <td>403410</td>\n",
       "      <td>4078</td>\n",
       "      <td>Harry Potter</td>\n",
       "      <td>7.0</td>\n",
       "      <td>4</td>\n",
       "    </tr>\n",
       "    <tr>\n",
       "      <th>1</th>\n",
       "      <td>5</td>\n",
       "      <td>Harry Potter and the Half-Blood Prince</td>\n",
       "      <td>J.K. Rowling</td>\n",
       "      <td>4.57</td>\n",
       "      <td>2709360</td>\n",
       "      <td>225993</td>\n",
       "      <td>2327</td>\n",
       "      <td>Harry Potter</td>\n",
       "      <td>6.0</td>\n",
       "      <td>4</td>\n",
       "    </tr>\n",
       "    <tr>\n",
       "      <th>2</th>\n",
       "      <td>6</td>\n",
       "      <td>Harry Potter and the Order of the Phoenix</td>\n",
       "      <td>J.K. Rowling</td>\n",
       "      <td>4.50</td>\n",
       "      <td>2795062</td>\n",
       "      <td>205245</td>\n",
       "      <td>2132</td>\n",
       "      <td>Harry Potter</td>\n",
       "      <td>5.0</td>\n",
       "      <td>4</td>\n",
       "    </tr>\n",
       "    <tr>\n",
       "      <th>3</th>\n",
       "      <td>1079</td>\n",
       "      <td>Harry Potter and the Cursed Child: Parts One a...</td>\n",
       "      <td>John Tiffany</td>\n",
       "      <td>3.56</td>\n",
       "      <td>812522</td>\n",
       "      <td>393</td>\n",
       "      <td>6</td>\n",
       "      <td>Harry Potter</td>\n",
       "      <td>8.0</td>\n",
       "      <td>4</td>\n",
       "    </tr>\n",
       "    <tr>\n",
       "      <th>4</th>\n",
       "      <td>2</td>\n",
       "      <td>The Hunger Games</td>\n",
       "      <td>Suzanne Collins</td>\n",
       "      <td>4.32</td>\n",
       "      <td>7026470</td>\n",
       "      <td>300983</td>\n",
       "      <td>3072</td>\n",
       "      <td>The Hunger Games</td>\n",
       "      <td>1.0</td>\n",
       "      <td>4</td>\n",
       "    </tr>\n",
       "    <tr>\n",
       "      <th>...</th>\n",
       "      <td>...</td>\n",
       "      <td>...</td>\n",
       "      <td>...</td>\n",
       "      <td>...</td>\n",
       "      <td>...</td>\n",
       "      <td>...</td>\n",
       "      <td>...</td>\n",
       "      <td>...</td>\n",
       "      <td>...</td>\n",
       "      <td>...</td>\n",
       "    </tr>\n",
       "    <tr>\n",
       "      <th>3123</th>\n",
       "      <td>9051</td>\n",
       "      <td>Banewreaker</td>\n",
       "      <td>Jacqueline Carey</td>\n",
       "      <td>3.46</td>\n",
       "      <td>4333</td>\n",
       "      <td>5</td>\n",
       "      <td>1</td>\n",
       "      <td>The Sundering</td>\n",
       "      <td>1.0</td>\n",
       "      <td>2</td>\n",
       "    </tr>\n",
       "    <tr>\n",
       "      <th>3124</th>\n",
       "      <td>9063</td>\n",
       "      <td>Godslayer</td>\n",
       "      <td>Jacqueline Carey</td>\n",
       "      <td>3.71</td>\n",
       "      <td>3156</td>\n",
       "      <td>4</td>\n",
       "      <td>1</td>\n",
       "      <td>The Sundering</td>\n",
       "      <td>2.0</td>\n",
       "      <td>2</td>\n",
       "    </tr>\n",
       "    <tr>\n",
       "      <th>3130</th>\n",
       "      <td>9076</td>\n",
       "      <td>The Wishing Spell</td>\n",
       "      <td>Chris Colfer</td>\n",
       "      <td>4.24</td>\n",
       "      <td>113884</td>\n",
       "      <td>3</td>\n",
       "      <td>1</td>\n",
       "      <td>The Land of Stories</td>\n",
       "      <td>1.0</td>\n",
       "      <td>3</td>\n",
       "    </tr>\n",
       "    <tr>\n",
       "      <th>3131</th>\n",
       "      <td>9088</td>\n",
       "      <td>The Enchantress Returns</td>\n",
       "      <td>Chris Colfer</td>\n",
       "      <td>4.47</td>\n",
       "      <td>48437</td>\n",
       "      <td>2</td>\n",
       "      <td>1</td>\n",
       "      <td>The Land of Stories</td>\n",
       "      <td>2.0</td>\n",
       "      <td>3</td>\n",
       "    </tr>\n",
       "    <tr>\n",
       "      <th>3132</th>\n",
       "      <td>9095</td>\n",
       "      <td>Worlds Collide</td>\n",
       "      <td>Chris Colfer</td>\n",
       "      <td>4.54</td>\n",
       "      <td>22141</td>\n",
       "      <td>1</td>\n",
       "      <td>1</td>\n",
       "      <td>The Land of Stories</td>\n",
       "      <td>6.0</td>\n",
       "      <td>3</td>\n",
       "    </tr>\n",
       "  </tbody>\n",
       "</table>\n",
       "<p>2154 rows × 10 columns</p>\n",
       "</div>"
      ],
      "text/plain": [
       "      uvrstitev                                             naslov  \\\n",
       "0             1               Harry Potter and the Deathly Hallows   \n",
       "1             5             Harry Potter and the Half-Blood Prince   \n",
       "2             6          Harry Potter and the Order of the Phoenix   \n",
       "3          1079  Harry Potter and the Cursed Child: Parts One a...   \n",
       "4             2                                   The Hunger Games   \n",
       "...         ...                                                ...   \n",
       "3123       9051                                        Banewreaker   \n",
       "3124       9063                                          Godslayer   \n",
       "3130       9076                                  The Wishing Spell   \n",
       "3131       9088                            The Enchantress Returns   \n",
       "3132       9095                                     Worlds Collide   \n",
       "\n",
       "                 avtor  povp_ocena  st_ocen   ocena  st_glasov  \\\n",
       "0         J.K. Rowling        4.61  3105897  403410       4078   \n",
       "1         J.K. Rowling        4.57  2709360  225993       2327   \n",
       "2         J.K. Rowling        4.50  2795062  205245       2132   \n",
       "3         John Tiffany        3.56   812522     393          6   \n",
       "4      Suzanne Collins        4.32  7026470  300983       3072   \n",
       "...                ...         ...      ...     ...        ...   \n",
       "3123  Jacqueline Carey        3.46     4333       5          1   \n",
       "3124  Jacqueline Carey        3.71     3156       4          1   \n",
       "3130      Chris Colfer        4.24   113884       3          1   \n",
       "3131      Chris Colfer        4.47    48437       2          1   \n",
       "3132      Chris Colfer        4.54    22141       1          1   \n",
       "\n",
       "                   zbirka  zap_st_knjige_v_zbirki  st_knjig_v_zbirki  \n",
       "0            Harry Potter                     7.0                  4  \n",
       "1            Harry Potter                     6.0                  4  \n",
       "2            Harry Potter                     5.0                  4  \n",
       "3            Harry Potter                     8.0                  4  \n",
       "4        The Hunger Games                     1.0                  4  \n",
       "...                   ...                     ...                ...  \n",
       "3123        The Sundering                     1.0                  2  \n",
       "3124        The Sundering                     2.0                  2  \n",
       "3130  The Land of Stories                     1.0                  3  \n",
       "3131  The Land of Stories                     2.0                  3  \n",
       "3132  The Land of Stories                     6.0                  3  \n",
       "\n",
       "[2154 rows x 10 columns]"
      ]
     },
     "execution_count": 485,
     "metadata": {},
     "output_type": "execute_result"
    }
   ],
   "source": [
    "stevilo_elementov = v_zbirki.groupby('zbirka').count()\n",
    "dodano_st_knjig_v_zbirki = pd.merge(v_zbirki, stevilo_elementov['zap_st_knjige_v_zbirki'], on='zbirka')\n",
    "dodano_st_knjig_v_zbirki = dodano_st_knjig_v_zbirki.rename(columns={'zap_st_knjige_v_zbirki_x': 'zap_st_knjige_v_zbirki', 'zap_st_knjige_v_zbirki_y': 'st_knjig_v_zbirki'})\n",
    "vec_knjig = dodano_st_knjig_v_zbirki['st_knjig_v_zbirki'] > 1\n",
    "vecje_zbirke = dodano_st_knjig_v_zbirki[vec_knjig]\n",
    "vecje_zbirke"
   ]
  },
  {
   "cell_type": "markdown",
   "metadata": {},
   "source": [
    "Na tem mestu lahko opazimo da s podatki nekaj ni vredu (npr. zbirka Harry Potter naj bi vsebovala samo 4 knjige). Po podrobnejšem pregledu podatkov - tako csv tabele kot html kode lahko ugotovimo, da nekatere knjige, ki so del zbirke, na spletni strani tega nimajo dopisanega. Analizo bom kljub temu nadaljevala."
   ]
  },
  {
   "cell_type": "code",
   "execution_count": 486,
   "metadata": {},
   "outputs": [
    {
     "data": {
      "text/plain": [
       "Text(0.5, 1.0, 'Korelacija med številom knjig v zbirki in popularnostjo')"
      ]
     },
     "execution_count": 486,
     "metadata": {},
     "output_type": "execute_result"
    },
    {
     "data": {
      "image/png": "[encoded data removed]",
      "text/plain": [
       "<Figure size 432x288 with 1 Axes>"
      ]
     },
     "metadata": {
      "needs_background": "light"
     },
     "output_type": "display_data"
    }
   ],
   "source": [
    "vecje_zbirke.plot.scatter(x='st_knjig_v_zbirki', y='povp_ocena', color='#188c79', xlabel='Število knjig v zbirki', ylabel='Povprečna ocena')\n",
    "plt.title('Korelacija med številom knjig v zbirki in popularnostjo')"
   ]
  },
  {
   "cell_type": "markdown",
   "metadata": {},
   "source": [
    "Na tem grafu ne opazimo neke očitne korelacije med številom knjig in popularnostjo. Vidimo lahko le, da več kot je knjig, bolj zgoščen je graf okrog neke vrednosti. To je morda zato, ker več kot je knjig, več je ocen za to zbirko, ocene za knjige iz iste zbirke pa so verjetno zelo podobne."
   ]
  },
  {
   "cell_type": "markdown",
   "metadata": {},
   "source": [
    "Zaključimo lahko, da število knjig v zbirki ne vpliva bistveno na njeno popularnost."
   ]
  },
  {
   "cell_type": "markdown",
   "metadata": {},
   "source": [
    "### 3. VIŠJE OCENJENE KNJIGE IMAJO VEČ OCEN"
   ]
  },
  {
   "cell_type": "markdown",
   "metadata": {},
   "source": [
    "Zanima me, ali obstaja povezava med višino ocene in številom ocen, predvsem ali so bolj popularne knjige tudi večkrat ocenjene."
   ]
  },
  {
   "cell_type": "code",
   "execution_count": 487,
   "metadata": {},
   "outputs": [
    {
     "data": {
      "text/plain": [
       "Text(0.5, 1.0, 'Korelacijski diagram med povprečno oceno in številom ocen')"
      ]
     },
     "execution_count": 487,
     "metadata": {},
     "output_type": "execute_result"
    },
    {
     "data": {
      "image/png": "[encoded data removed]",
      "text/plain": [
       "<Figure size 432x288 with 1 Axes>"
      ]
     },
     "metadata": {
      "needs_background": "light"
     },
     "output_type": "display_data"
    }
   ],
   "source": [
    "knjige.plot.scatter(x='st_ocen', y='povp_ocena', color='#19728a', xlabel='Število ocen', ylabel='Povprečna ocena')\n",
    "plt.title('Korelacijski diagram med povprečno oceno in številom ocen')"
   ]
  },
  {
   "cell_type": "markdown",
   "metadata": {},
   "source": [
    "Zdi se, da ne obstaja korelacija med številom ocen in povprečno oceno. Nekoliko slabše ocenjene (slabše od 3) knjige so sicer manjkrat ocenjene, med višje ocenjenimi pa ni bistvene razlike."
   ]
  },
  {
   "cell_type": "code",
   "execution_count": 488,
   "metadata": {},
   "outputs": [
    {
     "data": {
      "text/plain": [
       "Text(0.5, 1.0, 'Korelacijski diagram med povprečno oceno in številom ocen top 100 knjig')"
      ]
     },
     "execution_count": 488,
     "metadata": {},
     "output_type": "execute_result"
    },
    {
     "data": {
      "image/png": "[encoded data removed]",
      "text/plain": [
       "<Figure size 432x288 with 1 Axes>"
      ]
     },
     "metadata": {
      "needs_background": "light"
     },
     "output_type": "display_data"
    }
   ],
   "source": [
    "knjige.head(100).plot.scatter(x='st_ocen', y='povp_ocena', color='#19728a', xlabel='Število ocen', ylabel='Povprečna ocena')\n",
    "plt.title('Korelacijski diagram med povprečno oceno in številom ocen top 100 knjig')"
   ]
  },
  {
   "cell_type": "markdown",
   "metadata": {},
   "source": [
    "Tudi če si ogledamo le top 100 najbolj popularnih knjig ni opaziti nobene korelacije med številom ocen in povprečno oceno."
   ]
  },
  {
   "cell_type": "markdown",
   "metadata": {},
   "source": [
    "Zaključimo lahko, da število ocen in povprečna ocena nista povezani."
   ]
  },
  {
   "cell_type": "markdown",
   "metadata": {},
   "source": [
    "## ZAKLJUČEK"
   ]
  },
  {
   "cell_type": "markdown",
   "metadata": {},
   "source": [
    "Glede na to, da podatki niso bili najboljši (saj nekatere knjige niso imele dopisane zbirke kateri pripadajo) tudi izsledki niso najbolj zanesljivi.   \n",
    "Zdi se, da med najbolj popularnimi knjigami prevladujejo samostojne, torej tiste, ki niso del zbirke, bistvene razlike v popularnosti pa med vsemi 9099 knjigami ni.  \n",
    "Ugotovili smo tudi, da število knjig v posamezni zbirki ne vpliva na popularnost knjig oz. zbirke. Opaziti je bilo zgoščenost okoli neke ocene pri zbirkah ki vsebujejo več knjig, ni pa več knjig pomenilo veliko višje ocene.  \n",
    "Med popularnostjo knjige in številom ocen nismo ugotovili nobene povezave."
   ]
  }
 ],
 "metadata": {
  "kernelspec": {
   "display_name": "Python 3 (ipykernel)",
   "language": "python",
   "name": "python3"
  },
  "language_info": {
   "codemirror_mode": {
    "name": "ipython",
    "version": 3
   },
   "file_extension": ".py",
   "mimetype": "text/x-python",
   "name": "python",
   "nbconvert_exporter": "python",
   "pygments_lexer": "ipython3",
   "version": "3.9.1"
  }
 },
 "nbformat": 4,
 "nbformat_minor": 2
}
